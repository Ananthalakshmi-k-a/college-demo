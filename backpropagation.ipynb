{
  "nbformat": 4,
  "nbformat_minor": 0,
  "metadata": {
    "colab": {
      "provenance": [],
      "authorship_tag": "ABX9TyNiN618MQm/7yj2Kogbgcfr",
      "include_colab_link": true
    },
    "kernelspec": {
      "name": "python3",
      "display_name": "Python 3"
    },
    "language_info": {
      "name": "python"
    }
  },
  "cells": [
    {
      "cell_type": "markdown",
      "metadata": {
        "id": "view-in-github",
        "colab_type": "text"
      },
      "source": [
        "<a href=\"https://colab.research.google.com/github/Ananthalakshmi-k-a/college-demo/blob/main/backpropagation.ipynb\" target=\"_parent\"><img src=\"https://colab.research.google.com/assets/colab-badge.svg\" alt=\"Open In Colab\"/></a>"
      ]
    },
    {
      "cell_type": "markdown",
      "source": [
        "**AND GATE USING DIFFERENT ACTIVATION FUNCTION**"
      ],
      "metadata": {
        "id": "fMWqGMZ_b1Gr"
      }
    },
    {
      "cell_type": "markdown",
      "source": [
        "**1.AND Sigmoidal**"
      ],
      "metadata": {
        "id": "K5rYLN122v7c"
      }
    },
    {
      "cell_type": "code",
      "source": [
        "import numpy as np\n",
        "\n",
        "\n",
        "def sigmoid(x):\n",
        "    return 1 / (1 + np.exp(-x))\n",
        "\n",
        "def AND_gate(x1, x2):\n",
        "    w1, w2, b = 20, 20, -30\n",
        "\n",
        "    z = w1*x1 + w2*x2 + b\n",
        "\n",
        "    output = sigmoid(z)\n",
        "\n",
        "\n",
        "    if output <= 0.5:\n",
        "        return 0\n",
        "    else:\n",
        "        return 1\n",
        "\n",
        "print(\"0 AND 0:\", AND_gate(0, 0))\n",
        "print(\"0 AND 1:\", AND_gate(0, 1))\n",
        "print(\"1 AND 0:\", AND_gate(1, 0))\n",
        "print(\"1 AND 1:\", AND_gate(1, 1))\n"
      ],
      "metadata": {
        "colab": {
          "base_uri": "https://localhost:8080/"
        },
        "id": "0A5_hBAZ23Il",
        "outputId": "52e27fab-274f-47c4-d102-08c0add85e2e"
      },
      "execution_count": null,
      "outputs": [
        {
          "output_type": "stream",
          "name": "stdout",
          "text": [
            "0 AND 0: 0\n",
            "0 AND 1: 0\n",
            "1 AND 0: 0\n",
            "1 AND 1: 1\n"
          ]
        }
      ]
    },
    {
      "cell_type": "markdown",
      "source": [
        "**2.AND RELU**"
      ],
      "metadata": {
        "id": "3tnKDgU9UVaX"
      }
    },
    {
      "cell_type": "code",
      "source": [
        "import numpy as np\n",
        "\n",
        "def relu(x):\n",
        "    return np.maximum(0, x)\n",
        "\n",
        "def AND_gate(x1, x2):\n",
        "\n",
        "    w1 = 1\n",
        "    w2 = 1\n",
        "    bias = -1.5\n",
        "\n",
        "    output = relu(w1*x1 + w2*x2 + bias)\n",
        "\n",
        "    return output\n",
        "\n",
        "print(\"AND(0, 0) =\", AND_gate(0, 0))\n",
        "print(\"AND(0, 1) =\", AND_gate(0, 1))\n",
        "print(\"AND(1, 0) =\", AND_gate(1, 0))\n",
        "print(\"AND(1, 1) =\", AND_gate(1, 1))\n"
      ],
      "metadata": {
        "colab": {
          "base_uri": "https://localhost:8080/"
        },
        "id": "j9snu2DiYQH9",
        "outputId": "831d446f-0e3d-488d-fc72-44f368f231c2"
      },
      "execution_count": null,
      "outputs": [
        {
          "output_type": "stream",
          "name": "stdout",
          "text": [
            "AND(0, 0) = 0.0\n",
            "AND(0, 1) = 0.0\n",
            "AND(1, 0) = 0.0\n",
            "AND(1, 1) = 0.5\n"
          ]
        }
      ]
    },
    {
      "cell_type": "code",
      "source": [
        "import numpy as np\n",
        "\n",
        "def relu_modified(x):\n",
        "    return 1 if x > 0 else 0\n",
        "\n",
        "def AND_gate(x1, x2):\n",
        "\n",
        "    w1 = 1\n",
        "    w2 = 1\n",
        "    bias = -1.5\n",
        "\n",
        "    output = relu_modified(w1*x1 + w2*x2 + bias)\n",
        "\n",
        "    return output\n",
        "\n",
        "x1 = float(input(\"Enter first input (0 or 1): \"))\n",
        "x2 = float(input(\"Enter second input (0 or 1): \"))\n",
        "\n",
        "if x1 not in (0, 1) or x2 not in (0, 1):\n",
        "    print(\"Invalid input. Please enter 0 or 1 for inputs.\")\n",
        "else:\n",
        "    print(\"AND({}, {}) = {}\".format(x1, x2, AND_gate(x1, x2)))\n"
      ],
      "metadata": {
        "colab": {
          "base_uri": "https://localhost:8080/"
        },
        "id": "z_s0pX0Wbk1U",
        "outputId": "ade77704-3b0c-4417-9960-cb50991b781e"
      },
      "execution_count": null,
      "outputs": [
        {
          "output_type": "stream",
          "name": "stdout",
          "text": [
            "Enter first input (0 or 1): 1\n",
            "Enter second input (0 or 1): 1\n",
            "AND(1.0, 1.0) = 1\n"
          ]
        }
      ]
    },
    {
      "cell_type": "markdown",
      "source": [
        "**3.AND LINEAR**"
      ],
      "metadata": {
        "id": "EFKE_4zGcxly"
      }
    },
    {
      "cell_type": "code",
      "source": [
        "def linear_activation_with_threshold(x, threshold=0):\n",
        "    return 1 if x >= threshold else 0\n",
        "\n",
        "def AND_gate_linear(x1, x2):\n",
        "\n",
        "    w1 = 1\n",
        "    w2 = 1\n",
        "    bias = -1.5\n",
        "\n",
        "    output = linear_activation_with_threshold(w1*x1 + w2*x2 + bias)\n",
        "\n",
        "    return output\n",
        "\n",
        "x1 = float(input(\"Enter first input (0 or 1): \"))\n",
        "x2 = float(input(\"Enter second input (0 or 1): \"))\n",
        "\n",
        "if x1 not in (0, 1) or x2 not in (0, 1):\n",
        "    print(\"Invalid input. Please enter 0 or 1 for inputs.\")\n",
        "else:\n",
        "    print(\"AND({}, {}) = {}\".format(x1, x2, AND_gate_linear(x1, x2)))\n"
      ],
      "metadata": {
        "colab": {
          "base_uri": "https://localhost:8080/"
        },
        "id": "qnpQpAPcc4lK",
        "outputId": "4e54b736-3630-4113-e61c-26b94015b092"
      },
      "execution_count": null,
      "outputs": [
        {
          "output_type": "stream",
          "name": "stdout",
          "text": [
            "Enter first input (0 or 1): 1\n",
            "Enter second input (0 or 1): 0\n",
            "AND(1.0, 0.0) = 0\n"
          ]
        }
      ]
    },
    {
      "cell_type": "markdown",
      "source": [
        "**OR GATE USING DIFFERENT ACTIVATION FUNCTIONS**"
      ],
      "metadata": {
        "id": "TvmBLSGscB7K"
      }
    },
    {
      "cell_type": "markdown",
      "source": [
        "**1.OR Sigmoidal**"
      ],
      "metadata": {
        "id": "0lm4e3Ac3DSp"
      }
    },
    {
      "cell_type": "code",
      "source": [
        "import numpy as np\n",
        "\n",
        "def sigmoid(x):\n",
        "    return 1 / (1 + np.exp(-x))\n",
        "\n",
        "def OR_gate(x1, x2):\n",
        "\n",
        "    w1, w2, b = 20, 20, -10\n",
        "\n",
        "    z = w1*x1 + w2*x2 + b\n",
        "\n",
        "    output = sigmoid(z)\n",
        "\n",
        "    if output <= 0.5:\n",
        "        return 0\n",
        "    else:\n",
        "        return 1\n",
        "\n",
        "print(\"0 OR 0:\", OR_gate(0, 0))\n",
        "print(\"0 OR 1:\", OR_gate(0, 1))\n",
        "print(\"1 OR 0:\", OR_gate(1, 0))\n",
        "print(\"1 OR 1:\", OR_gate(1, 1))\n"
      ],
      "metadata": {
        "colab": {
          "base_uri": "https://localhost:8080/"
        },
        "id": "RHeV5XD23Kus",
        "outputId": "2da12083-7747-4e02-b5bd-2e8504f9017c"
      },
      "execution_count": null,
      "outputs": [
        {
          "output_type": "stream",
          "name": "stdout",
          "text": [
            "0 OR 0: 0\n",
            "0 OR 1: 1\n",
            "1 OR 0: 1\n",
            "1 OR 1: 1\n"
          ]
        }
      ]
    },
    {
      "cell_type": "markdown",
      "source": [
        "**2.OR RELU**"
      ],
      "metadata": {
        "id": "TLtBQYFAdFK5"
      }
    },
    {
      "cell_type": "code",
      "source": [
        "def relu(x):\n",
        "    return max(0, x)\n",
        "\n",
        "def OR_gate(x1, x2):\n",
        "\n",
        "    w1 = 1\n",
        "    w2 = 1\n",
        "    bias = -0.5\n",
        "\n",
        "    output = relu(w1*x1 + w2*x2 + bias)\n",
        "\n",
        "    return output\n",
        "\n",
        "print(\"OR(0, 0) =\", OR_gate(0, 0))\n",
        "print(\"OR(0, 1) =\", OR_gate(0, 1))\n",
        "print(\"OR(1, 0) =\", OR_gate(1, 0))\n",
        "print(\"OR(1, 1) =\", OR_gate(1, 1))\n"
      ],
      "metadata": {
        "colab": {
          "base_uri": "https://localhost:8080/"
        },
        "id": "AWu3KAfLf1Xe",
        "outputId": "d6b0c0b6-cf95-410a-ac3a-76bf967e5df4"
      },
      "execution_count": null,
      "outputs": [
        {
          "output_type": "stream",
          "name": "stdout",
          "text": [
            "OR(0, 0) = 0\n",
            "OR(0, 1) = 0.5\n",
            "OR(1, 0) = 0.5\n",
            "OR(1, 1) = 1.5\n"
          ]
        }
      ]
    },
    {
      "cell_type": "markdown",
      "source": [
        "**3.OR LINEAR**"
      ],
      "metadata": {
        "id": "2ulrji2ldGc5"
      }
    },
    {
      "cell_type": "code",
      "source": [
        "def OR_gate(x1, x2):\n",
        "\n",
        "    w1 = 1\n",
        "    w2 = 1\n",
        "\n",
        "    weighted_sum = w1 * x1 + w2 * x2\n",
        "\n",
        "\n",
        "    threshold = 0\n",
        "    if weighted_sum > threshold:\n",
        "        return 1\n",
        "    else:\n",
        "        return 0\n",
        "\n",
        "print(OR_gate(0, 0))\n",
        "print(OR_gate(0, 1))\n",
        "print(OR_gate(1, 0))\n",
        "print(OR_gate(1, 1))\n"
      ],
      "metadata": {
        "colab": {
          "base_uri": "https://localhost:8080/"
        },
        "id": "2YDZPXTGdHTX",
        "outputId": "0c163a43-d052-4bce-a567-3ce65eccaa45"
      },
      "execution_count": null,
      "outputs": [
        {
          "output_type": "stream",
          "name": "stdout",
          "text": [
            "0\n",
            "1\n",
            "1\n",
            "1\n"
          ]
        }
      ]
    },
    {
      "cell_type": "code",
      "source": [],
      "metadata": {
        "id": "TMcptoQxddGp"
      },
      "execution_count": null,
      "outputs": []
    },
    {
      "cell_type": "markdown",
      "source": [
        "**XOR GATE**"
      ],
      "metadata": {
        "id": "7D75ufUhE8Yr"
      }
    },
    {
      "cell_type": "code",
      "source": [
        "import numpy as np\n",
        "\n",
        "def sigmoid(x):\n",
        "    return 1 / (1 + np.exp(-x))\n",
        "\n",
        "def sigmoid_derivative(x):\n",
        "    return x * (1 - x)\n",
        "\n",
        "\n",
        "X = np.array([[0, 0],\n",
        "              [0, 1],\n",
        "              [1, 0],\n",
        "              [1, 1]])\n",
        "\n",
        "\n",
        "y = np.array([[0],\n",
        "              [1],\n",
        "              [1],\n",
        "              [0]])\n",
        "\n",
        "np.random.seed(1)\n",
        "\n",
        "input_neurons = 2\n",
        "hidden_neurons = 4\n",
        "output_neurons = 1\n",
        "\n",
        "\n",
        "weights_input_hidden = np.random.uniform(-1, 1, (input_neurons, hidden_neurons))\n",
        "\n",
        "\n",
        "weights_hidden_output = np.random.uniform(-1, 1, (hidden_neurons, output_neurons))\n",
        "\n",
        "epochs = 10000\n",
        "learning_rate = 0.1\n",
        "\n",
        "for epoch in range(epochs):\n",
        "\n",
        "    hidden_layer_input = np.dot(X, weights_input_hidden)\n",
        "    hidden_layer_output = sigmoid(hidden_layer_input)\n",
        "\n",
        "    output_layer_input = np.dot(hidden_layer_output, weights_hidden_output)\n",
        "    output_layer_output = sigmoid(output_layer_input)\n",
        "\n",
        "\n",
        "    error = y - output_layer_output\n",
        "    d_output =  error * sigmoid_derivative(output_layer_output)\n",
        "\n",
        "    error_hidden_layer = d_output.dot(weights_hidden_output.T)\n",
        "    d_hidden_layer = error_hidden_layer * sigmoid_derivative(hidden_layer_output)\n",
        "\n",
        "\n",
        "    weights_hidden_output += hidden_layer_output.T.dot(d_output) * learning_rate\n",
        "    weights_input_hidden += X.T.dot(d_hidden_layer) * learning_rate\n",
        "\n",
        "\n",
        "hidden_layer = sigmoid(np.dot(X, weights_input_hidden))\n",
        "output_layer = sigmoid(np.dot(hidden_layer, weights_hidden_output))\n",
        "\n",
        "print(\"Output after training:\")\n",
        "print(output_layer)\n",
        "for i in output_layer:\n",
        "  if i[0]>=0.5:\n",
        "    print(1)\n",
        "  else:\n",
        "    print(0)"
      ],
      "metadata": {
        "colab": {
          "base_uri": "https://localhost:8080/"
        },
        "id": "sHEjyL3aEvCb",
        "outputId": "69db90ca-ee35-4eda-9dbb-a0b9897c24e7"
      },
      "execution_count": null,
      "outputs": [
        {
          "output_type": "stream",
          "name": "stdout",
          "text": [
            "Output after training:\n",
            "[[0.09581334]\n",
            " [0.91580613]\n",
            " [0.91080945]\n",
            " [0.09593608]]\n",
            "0\n",
            "1\n",
            "1\n",
            "0\n"
          ]
        }
      ]
    },
    {
      "cell_type": "markdown",
      "source": [],
      "metadata": {
        "id": "tXxY9i5EFXN5"
      }
    },
    {
      "cell_type": "code",
      "source": [
        "import numpy as np\n",
        "\n",
        "def relu(x):\n",
        "    return np.maximum(0, x)\n",
        "\n",
        "def relu_derivative(x):\n",
        "    return np.where(x > 0, 1, 0)\n",
        "\n",
        "X = np.array([[0, 0],\n",
        "              [0, 1],\n",
        "              [1, 0],\n",
        "              [1, 1]])\n",
        "\n",
        "y = np.array([[0],\n",
        "              [1],\n",
        "              [1],\n",
        "              [0]])\n",
        "\n",
        "np.random.seed(1)\n",
        "\n",
        "input_neurons = 2\n",
        "hidden_neurons = 4\n",
        "output_neurons = 1\n",
        "\n",
        "weights_input_hidden = np.random.uniform(-1, 1, (input_neurons, hidden_neurons))\n",
        "weights_hidden_output = np.random.uniform(-1, 1, (hidden_neurons, output_neurons))\n",
        "\n",
        "epochs = 10000\n",
        "learning_rate = 0.1\n",
        "\n",
        "for epoch in range(epochs):\n",
        "\n",
        "    hidden_layer_input = np.dot(X, weights_input_hidden)\n",
        "    hidden_layer_output = relu(hidden_layer_input)\n",
        "\n",
        "    output_layer_input = np.dot(hidden_layer_output, weights_hidden_output)\n",
        "    output_layer_output = relu(output_layer_input)\n",
        "\n",
        "    error = y - output_layer_output\n",
        "    d_output =  error * relu_derivative(output_layer_output)\n",
        "\n",
        "    error_hidden_layer = d_output.dot(weights_hidden_output.T)\n",
        "    d_hidden_layer = error_hidden_layer * relu_derivative(hidden_layer_output)\n",
        "\n",
        "    weights_hidden_output += hidden_layer_output.T.dot(d_output) * learning_rate\n",
        "    weights_input_hidden += X.T.dot(d_hidden_layer) * learning_rate\n",
        "\n",
        "hidden_layer = relu(np.dot(X, weights_input_hidden))\n",
        "output_layer = relu(np.dot(hidden_layer, weights_hidden_output))\n",
        "\n",
        "print(\"Output after training:\")\n",
        "for i in output_layer:\n",
        "    if i[0] >= 0.5:\n",
        "        print(1)\n",
        "    else:\n",
        "        print(0)\n"
      ],
      "metadata": {
        "id": "Y6KYDQlvokGY",
        "outputId": "21e4f268-c268-45aa-ad69-bd8e06d7d75e",
        "colab": {
          "base_uri": "https://localhost:8080/"
        }
      },
      "execution_count": null,
      "outputs": [
        {
          "output_type": "stream",
          "name": "stdout",
          "text": [
            "Output after training:\n",
            "0\n",
            "0\n",
            "1\n",
            "0\n"
          ]
        }
      ]
    }
  ]
}