{
  "nbformat": 4,
  "nbformat_minor": 0,
  "metadata": {
    "colab": {
      "provenance": [],
      "toc_visible": true,
      "authorship_tag": "ABX9TyNsgJ6ZFaQr7vdJ98EwScDQ",
      "include_colab_link": true
    },
    "kernelspec": {
      "name": "python3",
      "display_name": "Python 3"
    },
    "language_info": {
      "name": "python"
    }
  },
  "cells": [
    {
      "cell_type": "markdown",
      "metadata": {
        "id": "view-in-github",
        "colab_type": "text"
      },
      "source": [
        "<a href=\"https://colab.research.google.com/github/Ananthalakshmi-k-a/college-demo/blob/main/shape.ipynb\" target=\"_parent\"><img src=\"https://colab.research.google.com/assets/colab-badge.svg\" alt=\"Open In Colab\"/></a>"
      ]
    },
    {
      "cell_type": "code",
      "source": [
        "import cv2\n",
        "import numpy as np\n",
        "from google.colab.patches import cv2_imshow\n",
        "\n",
        "# Load the image\n",
        "img = cv2.imread('images.png')\n",
        "\n",
        "# Check if the image was loaded successfully\n",
        "if img is None:\n",
        "    print(\"Error: Unable to load the image.\")\n",
        "else:\n",
        "    # Display the original image\n",
        "    cv2_imshow(img)\n",
        "    cv2.waitKey(0)\n",
        "\n",
        "    # Convert the image to grayscale\n",
        "    gray_img = cv2.cvtColor(img, cv2.COLOR_BGR2GRAY)\n",
        "\n",
        "    # Display the grayscale image\n",
        "    cv2_imshow(gray_img)\n",
        "    cv2.waitKey(0)\n",
        "\n",
        "    # Apply Canny edge detection\n",
        "    edges = cv2.Canny(gray_img, 50, 200)\n",
        "\n",
        "    # Display the edges\n",
        "    cv2_imshow(edges)\n",
        "    cv2.waitKey(0)\n",
        "\n",
        "    # Find contours in the edge-detected image\n",
        "    contours, hierarchy = cv2.findContours(edges.copy(), cv2.RETR_EXTERNAL, cv2.CHAIN_APPROX_NONE)\n",
        "\n",
        "    # Loop over the contours to detect shapes\n",
        "    for cnt in contours:\n",
        "        approx = cv2.approxPolyDP(cnt, 0.03 * cv2.arcLength(cnt, True), True)\n",
        "        print(len(approx))\n",
        "\n",
        "        # Initialize shape\n",
        "        shape = ''\n",
        "\n",
        "        # Detect shapes based on the number of vertices\n",
        "        if len(approx) == 3:\n",
        "            shape = 'Triangle'\n",
        "        elif len(approx) == 4:\n",
        "            x, y, w, h = cv2.boundingRect(cnt)\n",
        "            if abs(w - h) < 5:\n",
        "                shape = 'Square'\n",
        "            else:\n",
        "                shape = 'Rectangle'\n",
        "        elif len(approx) == 10:\n",
        "            shape = 'Star'\n",
        "        elif len(approx) == 8:\n",
        "            shape = 'Circle'\n",
        "\n",
        "        # Calculate centroid of the contour\n",
        "        M = cv2.moments(approx)\n",
        "        if M['m00'] != 0:\n",
        "            cx = int(M['m10'] / M['m00'])\n",
        "            cy = int(M['m01'] / M['m00'])\n",
        "        else:\n",
        "            cx = 0\n",
        "            cy = 0\n",
        "\n",
        "        # Put text indicating the detected shape on the image\n",
        "        cv2.putText(img, shape, (cx - 30, cy), cv2.FONT_HERSHEY_SIMPLEX, 0.7, (0, 255, 0), 1)\n",
        "\n",
        "        # Draw contours on the original image\n",
        "        cv2.drawContours(img, cnt, -1, (0, 255, 0), 2)\n",
        "\n",
        "    # Display the final image with detected shapes\n",
        "    cv2_imshow(img)\n",
        "\n",
        "    # Close all OpenCV windows\n",
        "    cv2.destroyAllWindows()\n"
      ],
      "metadata": {
        "colab": {
          "base_uri": "https://localhost:8080/",
          "height": 1000
        },
        "id": "MuJinsjSCgBY",
        "outputId": "3e9d4499-7ab6-4038-e8b2-144a74cbad01"
      },
      "execution_count": null,
      "outputs": [
        {
          "output_type": "display_data",
          "data": {
            "text/plain": [
              "<PIL.Image.Image image mode=RGB size=254x198>"
            ],
            "image/png": "[encoded data removed]"
          },
          "metadata": {}
        },
        {
          "output_type": "display_data",
          "data": {
            "text/plain": [
              "<PIL.Image.Image image mode=L size=254x198>"
            ],
            "image/png": "[encoded data removed]"
          },
          "metadata": {}
        },
        {
          "output_type": "display_data",
          "data": {
            "text/plain": [
              "<PIL.Image.Image image mode=L size=254x198>"
            ],
            "image/png": "[encoded data removed]"
          },
          "metadata": {}
        },
        {
          "output_type": "stream",
          "name": "stdout",
          "text": [
            "1\n",
            "2\n",
            "8\n",
            "1\n",
            "1\n",
            "1\n",
            "3\n",
            "6\n",
            "8\n",
            "8\n",
            "7\n",
            "6\n",
            "8\n",
            "8\n",
            "4\n",
            "4\n",
            "9\n",
            "6\n",
            "11\n",
            "7\n",
            "2\n",
            "2\n",
            "2\n",
            "2\n",
            "2\n",
            "1\n",
            "2\n",
            "8\n",
            "7\n",
            "8\n",
            "5\n",
            "6\n",
            "4\n",
            "4\n"
          ]
        },
        {
          "output_type": "display_data",
          "data": {
            "text/plain": [
              "<PIL.Image.Image image mode=RGB size=254x198>"
            ],
            "image/png": "[encoded data removed]"
          },
          "metadata": {}
        }
      ]
    }
  ]
}